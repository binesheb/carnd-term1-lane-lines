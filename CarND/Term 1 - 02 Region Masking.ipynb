{
 "cells": [
  {
   "cell_type": "markdown",
   "metadata": {},
   "source": [
    "# Region Masking"
   ]
  },
  {
   "cell_type": "markdown",
   "metadata": {},
   "source": [
    "## Importing the libraries"
   ]
  },
  {
   "cell_type": "code",
   "execution_count": 4,
   "metadata": {
    "collapsed": true
   },
   "outputs": [],
   "source": [
    "#import all the basic libraries required\n",
    "\n",
    "#matplotlib.pyplot > Provides a MATLAB-like plotting framework. pylab combines pyplot with numpy into a single namespace. \n",
    "import matplotlib.pyplot as plt \n",
    "#This is further referef as 'plt' for convenience\n",
    "\n",
    "#matplotlib.image > Provides operations for importing images including metadata from them\n",
    "import matplotlib.image as mpimg \n",
    "#This is further refered as 'mpimg' for convenience\n",
    "\n",
    "#NumPy is the fundamental package for scientific computing with Python. \n",
    "#It contains among other things: a powerful N-dimensional array object sophisticated (broadcasting) functions etc.\n",
    "import numpy as np \n",
    "#This is further refered as 'np'"
   ]
  },
  {
   "cell_type": "code",
   "execution_count": null,
   "metadata": {
    "collapsed": true
   },
   "outputs": [],
   "source": []
  }
 ],
 "metadata": {
  "kernelspec": {
   "display_name": "Python 3",
   "language": "python",
   "name": "python3"
  },
  "language_info": {
   "codemirror_mode": {
    "name": "ipython",
    "version": 3
   },
   "file_extension": ".py",
   "mimetype": "text/x-python",
   "name": "python",
   "nbconvert_exporter": "python",
   "pygments_lexer": "ipython3",
   "version": "3.6.2"
  }
 },
 "nbformat": 4,
 "nbformat_minor": 2
}
